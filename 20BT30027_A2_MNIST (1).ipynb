{
  "nbformat": 4,
  "nbformat_minor": 0,
  "metadata": {
    "colab": {
      "provenance": []
    },
    "kernelspec": {
      "name": "python3",
      "display_name": "Python 3"
    },
    "language_info": {
      "name": "python"
    }
  },
  "cells": [
    {
      "cell_type": "code",
      "execution_count": null,
      "metadata": {
        "id": "I-PZzM3KgOo6"
      },
      "outputs": [],
      "source": [
        "import numpy as np\n",
        "import matplotlib.pyplot as plt\n",
        "import seaborn as sns\n",
        "import cv2\n",
        "from google.colab.patches import cv2_imshow\n",
        "from PIL import Image\n",
        "import tensorflow as tf\n",
        "tf.random.set_seed(3)\n",
        "from tensorflow import keras\n",
        "from keras.datasets import mnist\n",
        "from sklearn.preprocessing import LabelBinarizer"
      ]
    },
    {
      "cell_type": "code",
      "source": [
        "from tensorflow.keras.models import Sequential\n",
        "from tensorflow.keras.layers import Flatten\n",
        "from tensorflow.keras.layers import BatchNormalization\n",
        "from tensorflow.keras.layers import Activation\n",
        "from tensorflow.keras.layers import Dense\n",
        "from tensorflow.keras.optimizers import Adam"
      ],
      "metadata": {
        "id": "ih4TM_TzgV8f"
      },
      "execution_count": null,
      "outputs": []
    },
    {
      "cell_type": "markdown",
      "source": [
        "MNIST Dataset\n"
      ],
      "metadata": {
        "id": "QxbbLUeDgdTK"
      }
    },
    {
      "cell_type": "code",
      "source": [
        "(X_train,Y_train),(X_test,Y_test)=mnist.load_data()"
      ],
      "metadata": {
        "id": "6YDwoaLtgaoL"
      },
      "execution_count": null,
      "outputs": []
    },
    {
      "cell_type": "code",
      "source": [
        "#  shape of numpy array\n",
        "print((X_train.shape,Y_train.shape),(X_test.shape,Y_test.shape))"
      ],
      "metadata": {
        "colab": {
          "base_uri": "https://localhost:8080/"
        },
        "id": "cHKZJSYmgjki",
        "outputId": "faca51d2-c217-42bb-918b-0752659acd94"
      },
      "execution_count": null,
      "outputs": [
        {
          "output_type": "stream",
          "name": "stdout",
          "text": [
            "((60000, 28, 28), (60000,)) ((10000, 28, 28), (10000,))\n"
          ]
        }
      ]
    },
    {
      "cell_type": "markdown",
      "source": [
        "We have grayscaled image data\n",
        "```\n",
        "test data= 60,000 images\n",
        "test data= 10,000 images\n",
        "dimension= 28*28```\n",
        "\n"
      ],
      "metadata": {
        "id": "ITs-ySJmgrka"
      }
    },
    {
      "cell_type": "code",
      "source": [
        "# printing a sample image\n",
        "print(X_train[20])"
      ],
      "metadata": {
        "colab": {
          "base_uri": "https://localhost:8080/"
        },
        "id": "TvRJkKPegn6g",
        "outputId": "429e07ba-e1cb-4579-aad9-012013884471"
      },
      "execution_count": null,
      "outputs": [
        {
          "output_type": "stream",
          "name": "stdout",
          "text": [
            "[[  0   0   0   0   0   0   0   0   0   0   0   0   0   0   0   0   0   0\n",
            "    0   0   0   0   0   0   0   0   0   0]\n",
            " [  0   0   0   0   0   0   0   0   0   0   0   0   0   0   0   0   0   0\n",
            "    0   0   0   0   0   0   0   0   0   0]\n",
            " [  0   0   0   0   0   0   0   0   0   0   0   0   0   0   0   0   0   0\n",
            "    0   0   0   0   0   0   0   0   0   0]\n",
            " [  0   0   0   0   0   0   0   0   0   0   0   0   0   0   0   0   0   0\n",
            "    0   0   0   0   0   0   0   0   0   0]\n",
            " [  0   0   0   0   0   0   0   0   0   0   0   0   0   0   0   0   0  38\n",
            "  190  25   0   0   0   0   0   0   0   0]\n",
            " [  0   0   0  13  25  10   0   0   0   0   0   0   0   0   0   0   0 112\n",
            "  252 125   4   0   0   0   0   0   0   0]\n",
            " [  0   0   0 132 252 113   0   0   0   0   0   0   0   0   0   0   0  61\n",
            "  252 252  36   0   0   0   0   0   0   0]\n",
            " [  0   0   0 132 252 240  79   0   0   0   0   0   0   0   0   0   0  84\n",
            "  252 252  36   0   0   0   0   0   0   0]\n",
            " [  0   0   0 132 252 252 238  52   0   0   0   0   0   0   0   0  12 198\n",
            "  252 252 122   0   0   0   0   0   0   0]\n",
            " [  0   0   0  99 252 252 252 181  17   0   0   0   0   0   0   0  49 252\n",
            "  252 252 122   0   0   0   0   0   0   0]\n",
            " [  0   0   0   3 125 252 252 252 100   0   0   0   0   0   0   0  26 218\n",
            "  252 252  36   0   0   0   0   0   0   0]\n",
            " [  0   0   0   0  15 216 252 252 207  19   0   0   0   0   0   0  49 252\n",
            "  252 252  36   0   0   0   0   0   0   0]\n",
            " [  0   0   0   0   0 157 252 252 252  48   0   0   0   6 109 109 194 252\n",
            "  252 252  36   0   0   0   0   0   0   0]\n",
            " [  0   0   0   0   0 100 252 252 252 105   0  58 116 128 252 252 252 252\n",
            "  252 212  19   0   0   0   0   0   0   0]\n",
            " [  0   0   0   0   0   0 164 253 253 253 253 253 253 255 253 253 253 253\n",
            "  253 253  99   0   0   0   0   0   0   0]\n",
            " [  0   0   0   0   0   0  49 252 252 252 252 252 252 253 252 252 252 252\n",
            "  252 252 155   0   0   0   0   0   0   0]\n",
            " [  0   0   0   0   0   0  49 252 252 252 252 252 252 217 216 141 126 252\n",
            "  252 252 155   0   0   0   0   0   0   0]\n",
            " [  0   0   0   0   0   0  49 252 252 252 234 204  89   0   0   0  49 252\n",
            "  252 252 155   0   0   0   0   0   0   0]\n",
            " [  0   0   0   0   0   0  14 158 192 151  45   0   0   0   0   0  49 252\n",
            "  252 252 225  17   0   0   0   0   0   0]\n",
            " [  0   0   0   0   0   0   0   0   0   0   0   0   0   0   0   0  49 252\n",
            "  252 252 252  23   0   0   0   0   0   0]\n",
            " [  0   0   0   0   0   0   0   0   0   0   0   0   0   0   0   0  33 228\n",
            "  252 252 252 157   4   0   0   0   0   0]\n",
            " [  0   0   0   0   0   0   0   0   0   0   0   0   0   0   0   0   0  55\n",
            "  229 252 252 252  11   0   0   0   0   0]\n",
            " [  0   0   0   0   0   0   0   0   0   0   0   0   0   0   0   0   0   0\n",
            "   53 232 252 252  63   0   0   0   0   0]\n",
            " [  0   0   0   0   0   0   0   0   0   0   0   0   0   0   0   0   0   0\n",
            "    0  90 206 131  11   0   0   0   0   0]\n",
            " [  0   0   0   0   0   0   0   0   0   0   0   0   0   0   0   0   0   0\n",
            "    0   0   0   0   0   0   0   0   0   0]\n",
            " [  0   0   0   0   0   0   0   0   0   0   0   0   0   0   0   0   0   0\n",
            "    0   0   0   0   0   0   0   0   0   0]\n",
            " [  0   0   0   0   0   0   0   0   0   0   0   0   0   0   0   0   0   0\n",
            "    0   0   0   0   0   0   0   0   0   0]\n",
            " [  0   0   0   0   0   0   0   0   0   0   0   0   0   0   0   0   0   0\n",
            "    0   0   0   0   0   0   0   0   0   0]]\n"
          ]
        }
      ]
    },
    {
      "cell_type": "code",
      "source": [
        "# sample data\n",
        "plt.imshow(X_train[20])\n",
        "plt.show\n",
        "print(Y_train[20])"
      ],
      "metadata": {
        "colab": {
          "base_uri": "https://localhost:8080/",
          "height": 282
        },
        "id": "02n2D5sDguWO",
        "outputId": "700a6f78-7808-4596-e61f-32f4bb5361ac"
      },
      "execution_count": null,
      "outputs": [
        {
          "output_type": "stream",
          "name": "stdout",
          "text": [
            "4\n"
          ]
        },
        {
          "output_type": "display_data",
          "data": {
            "text/plain": [
              "<Figure size 432x288 with 1 Axes>"
            ],
            "image/png": "[encoded data removed]"
          },
          "metadata": {
            "needs_background": "light"
          }
        }
      ]
    },
    {
      "cell_type": "code",
      "source": [
        "# rescaling the data between (0 to 1) to maintain the uniformity in the dataset\n",
        "x_train= X_train/255\n",
        "X_test= X_test/255\n",
        "\n",
        "# image after rescaling\n",
        "plt.imshow(X_train[20])\n",
        "plt.show\n",
        "print(Y_train[20])"
      ],
      "metadata": {
        "colab": {
          "base_uri": "https://localhost:8080/",
          "height": 282
        },
        "id": "crEosx6SgyjT",
        "outputId": "5cbdb650-6828-4400-b9eb-25e565f1547a"
      },
      "execution_count": null,
      "outputs": [
        {
          "output_type": "stream",
          "name": "stdout",
          "text": [
            "[0 0 0 0 1 0 0 0 0 0]\n"
          ]
        },
        {
          "output_type": "display_data",
          "data": {
            "text/plain": [
              "<Figure size 432x288 with 1 Axes>"
            ],
            "image/png": "[encoded data removed]"
          },
          "metadata": {
            "needs_background": "light"
          }
        }
      ]
    },
    {
      "cell_type": "code",
      "source": [
        "print(X_train[20])"
      ],
      "metadata": {
        "colab": {
          "base_uri": "https://localhost:8080/"
        },
        "id": "kNo7LtiBg17L",
        "outputId": "0fb65b95-8254-4083-ef7f-b00d048067e3"
      },
      "execution_count": null,
      "outputs": [
        {
          "output_type": "stream",
          "name": "stdout",
          "text": [
            "[[0.         0.         0.         0.         0.         0.\n",
            "  0.         0.         0.         0.         0.         0.\n",
            "  0.         0.         0.         0.         0.         0.\n",
            "  0.         0.         0.         0.         0.         0.\n",
            "  0.         0.         0.         0.        ]\n",
            " [0.         0.         0.         0.         0.         0.\n",
            "  0.         0.         0.         0.         0.         0.\n",
            "  0.         0.         0.         0.         0.         0.\n",
            "  0.         0.         0.         0.         0.         0.\n",
            "  0.         0.         0.         0.        ]\n",
            " [0.         0.         0.         0.         0.         0.\n",
            "  0.         0.         0.         0.         0.         0.\n",
            "  0.         0.         0.         0.         0.         0.\n",
            "  0.         0.         0.         0.         0.         0.\n",
            "  0.         0.         0.         0.        ]\n",
            " [0.         0.         0.         0.         0.         0.\n",
            "  0.         0.         0.         0.         0.         0.\n",
            "  0.         0.         0.         0.         0.         0.\n",
            "  0.         0.         0.         0.         0.         0.\n",
            "  0.         0.         0.         0.        ]\n",
            " [0.         0.         0.         0.         0.         0.\n",
            "  0.         0.         0.         0.         0.         0.\n",
            "  0.         0.         0.         0.         0.         0.14901961\n",
            "  0.74509804 0.09803922 0.         0.         0.         0.\n",
            "  0.         0.         0.         0.        ]\n",
            " [0.         0.         0.         0.05098039 0.09803922 0.03921569\n",
            "  0.         0.         0.         0.         0.         0.\n",
            "  0.         0.         0.         0.         0.         0.43921569\n",
            "  0.98823529 0.49019608 0.01568627 0.         0.         0.\n",
            "  0.         0.         0.         0.        ]\n",
            " [0.         0.         0.         0.51764706 0.98823529 0.44313725\n",
            "  0.         0.         0.         0.         0.         0.\n",
            "  0.         0.         0.         0.         0.         0.23921569\n",
            "  0.98823529 0.98823529 0.14117647 0.         0.         0.\n",
            "  0.         0.         0.         0.        ]\n",
            " [0.         0.         0.         0.51764706 0.98823529 0.94117647\n",
            "  0.30980392 0.         0.         0.         0.         0.\n",
            "  0.         0.         0.         0.         0.         0.32941176\n",
            "  0.98823529 0.98823529 0.14117647 0.         0.         0.\n",
            "  0.         0.         0.         0.        ]\n",
            " [0.         0.         0.         0.51764706 0.98823529 0.98823529\n",
            "  0.93333333 0.20392157 0.         0.         0.         0.\n",
            "  0.         0.         0.         0.         0.04705882 0.77647059\n",
            "  0.98823529 0.98823529 0.47843137 0.         0.         0.\n",
            "  0.         0.         0.         0.        ]\n",
            " [0.         0.         0.         0.38823529 0.98823529 0.98823529\n",
            "  0.98823529 0.70980392 0.06666667 0.         0.         0.\n",
            "  0.         0.         0.         0.         0.19215686 0.98823529\n",
            "  0.98823529 0.98823529 0.47843137 0.         0.         0.\n",
            "  0.         0.         0.         0.        ]\n",
            " [0.         0.         0.         0.01176471 0.49019608 0.98823529\n",
            "  0.98823529 0.98823529 0.39215686 0.         0.         0.\n",
            "  0.         0.         0.         0.         0.10196078 0.85490196\n",
            "  0.98823529 0.98823529 0.14117647 0.         0.         0.\n",
            "  0.         0.         0.         0.        ]\n",
            " [0.         0.         0.         0.         0.05882353 0.84705882\n",
            "  0.98823529 0.98823529 0.81176471 0.0745098  0.         0.\n",
            "  0.         0.         0.         0.         0.19215686 0.98823529\n",
            "  0.98823529 0.98823529 0.14117647 0.         0.         0.\n",
            "  0.         0.         0.         0.        ]\n",
            " [0.         0.         0.         0.         0.         0.61568627\n",
            "  0.98823529 0.98823529 0.98823529 0.18823529 0.         0.\n",
            "  0.         0.02352941 0.42745098 0.42745098 0.76078431 0.98823529\n",
            "  0.98823529 0.98823529 0.14117647 0.         0.         0.\n",
            "  0.         0.         0.         0.        ]\n",
            " [0.         0.         0.         0.         0.         0.39215686\n",
            "  0.98823529 0.98823529 0.98823529 0.41176471 0.         0.22745098\n",
            "  0.45490196 0.50196078 0.98823529 0.98823529 0.98823529 0.98823529\n",
            "  0.98823529 0.83137255 0.0745098  0.         0.         0.\n",
            "  0.         0.         0.         0.        ]\n",
            " [0.         0.         0.         0.         0.         0.\n",
            "  0.64313725 0.99215686 0.99215686 0.99215686 0.99215686 0.99215686\n",
            "  0.99215686 1.         0.99215686 0.99215686 0.99215686 0.99215686\n",
            "  0.99215686 0.99215686 0.38823529 0.         0.         0.\n",
            "  0.         0.         0.         0.        ]\n",
            " [0.         0.         0.         0.         0.         0.\n",
            "  0.19215686 0.98823529 0.98823529 0.98823529 0.98823529 0.98823529\n",
            "  0.98823529 0.99215686 0.98823529 0.98823529 0.98823529 0.98823529\n",
            "  0.98823529 0.98823529 0.60784314 0.         0.         0.\n",
            "  0.         0.         0.         0.        ]\n",
            " [0.         0.         0.         0.         0.         0.\n",
            "  0.19215686 0.98823529 0.98823529 0.98823529 0.98823529 0.98823529\n",
            "  0.98823529 0.85098039 0.84705882 0.55294118 0.49411765 0.98823529\n",
            "  0.98823529 0.98823529 0.60784314 0.         0.         0.\n",
            "  0.         0.         0.         0.        ]\n",
            " [0.         0.         0.         0.         0.         0.\n",
            "  0.19215686 0.98823529 0.98823529 0.98823529 0.91764706 0.8\n",
            "  0.34901961 0.         0.         0.         0.19215686 0.98823529\n",
            "  0.98823529 0.98823529 0.60784314 0.         0.         0.\n",
            "  0.         0.         0.         0.        ]\n",
            " [0.         0.         0.         0.         0.         0.\n",
            "  0.05490196 0.61960784 0.75294118 0.59215686 0.17647059 0.\n",
            "  0.         0.         0.         0.         0.19215686 0.98823529\n",
            "  0.98823529 0.98823529 0.88235294 0.06666667 0.         0.\n",
            "  0.         0.         0.         0.        ]\n",
            " [0.         0.         0.         0.         0.         0.\n",
            "  0.         0.         0.         0.         0.         0.\n",
            "  0.         0.         0.         0.         0.19215686 0.98823529\n",
            "  0.98823529 0.98823529 0.98823529 0.09019608 0.         0.\n",
            "  0.         0.         0.         0.        ]\n",
            " [0.         0.         0.         0.         0.         0.\n",
            "  0.         0.         0.         0.         0.         0.\n",
            "  0.         0.         0.         0.         0.12941176 0.89411765\n",
            "  0.98823529 0.98823529 0.98823529 0.61568627 0.01568627 0.\n",
            "  0.         0.         0.         0.        ]\n",
            " [0.         0.         0.         0.         0.         0.\n",
            "  0.         0.         0.         0.         0.         0.\n",
            "  0.         0.         0.         0.         0.         0.21568627\n",
            "  0.89803922 0.98823529 0.98823529 0.98823529 0.04313725 0.\n",
            "  0.         0.         0.         0.        ]\n",
            " [0.         0.         0.         0.         0.         0.\n",
            "  0.         0.         0.         0.         0.         0.\n",
            "  0.         0.         0.         0.         0.         0.\n",
            "  0.20784314 0.90980392 0.98823529 0.98823529 0.24705882 0.\n",
            "  0.         0.         0.         0.        ]\n",
            " [0.         0.         0.         0.         0.         0.\n",
            "  0.         0.         0.         0.         0.         0.\n",
            "  0.         0.         0.         0.         0.         0.\n",
            "  0.         0.35294118 0.80784314 0.51372549 0.04313725 0.\n",
            "  0.         0.         0.         0.        ]\n",
            " [0.         0.         0.         0.         0.         0.\n",
            "  0.         0.         0.         0.         0.         0.\n",
            "  0.         0.         0.         0.         0.         0.\n",
            "  0.         0.         0.         0.         0.         0.\n",
            "  0.         0.         0.         0.        ]\n",
            " [0.         0.         0.         0.         0.         0.\n",
            "  0.         0.         0.         0.         0.         0.\n",
            "  0.         0.         0.         0.         0.         0.\n",
            "  0.         0.         0.         0.         0.         0.\n",
            "  0.         0.         0.         0.        ]\n",
            " [0.         0.         0.         0.         0.         0.\n",
            "  0.         0.         0.         0.         0.         0.\n",
            "  0.         0.         0.         0.         0.         0.\n",
            "  0.         0.         0.         0.         0.         0.\n",
            "  0.         0.         0.         0.        ]\n",
            " [0.         0.         0.         0.         0.         0.\n",
            "  0.         0.         0.         0.         0.         0.\n",
            "  0.         0.         0.         0.         0.         0.\n",
            "  0.         0.         0.         0.         0.         0.\n",
            "  0.         0.         0.         0.        ]]\n"
          ]
        }
      ]
    },
    {
      "cell_type": "code",
      "source": [
        "# convert the labels from integers to vectors\n",
        "Y_train = LabelBinarizer().fit_transform(Y_train)\n",
        "Y_test = LabelBinarizer().fit_transform(Y_test)"
      ],
      "metadata": {
        "id": "X2QSPvl8g4ZR"
      },
      "execution_count": null,
      "outputs": []
    },
    {
      "cell_type": "markdown",
      "source": [
        "Building NN architecture with relu as activation function."
      ],
      "metadata": {
        "id": "Fk69HrJ6hDCC"
      }
    },
    {
      "cell_type": "code",
      "source": [
        "model_2 = tf.keras.models.Sequential()\n",
        "\n",
        "model_2.add(tf.keras.layers.Flatten())\n",
        "\n",
        "model_2.add(tf.keras.layers.Dense(10, activation = 'relu'))\n",
        "\n",
        "model_2.add(tf.keras.layers.BatchNormalization())\n",
        "\n",
        "model_2.add(tf.keras.layers.Dense(10, activation = 'relu'))\n",
        "\n",
        "model_2.add(tf.keras.layers.BatchNormalization())\n",
        "\n",
        "model_2.add(tf.keras.layers.Dense(10, activation = 'relu'))\n",
        "\n",
        "model_2.add(tf.keras.layers.BatchNormalization())\n",
        "\n",
        "model_2.add(tf.keras.layers.Dense(10, activation = 'relu'))\n",
        "\n",
        "model_2.add(tf.keras.layers.BatchNormalization())\n",
        "\n",
        "model_2.add(tf.keras.layers.Dense(10, activation = 'relu'))\n",
        "\n",
        "model_2.add(tf.keras.layers.BatchNormalization())\n",
        "\n",
        "model_2.add(tf.keras.layers.Dense(10, activation = 'relu'))\n",
        "\n",
        "model_2.add(tf.keras.layers.BatchNormalization())\n",
        "\n",
        "model_2.add(tf.keras.layers.Dense(10, activation = 'relu'))\n",
        "\n",
        "model_2.add(tf.keras.layers.BatchNormalization())\n",
        "\n",
        "model_2.add(tf.keras.layers.Dense(10, activation = 'relu'))\n",
        "\n",
        "model_2.add(tf.keras.layers.BatchNormalization())\n",
        "\n",
        "model_2.add(tf.keras.layers.Dense(10, activation = 'relu'))\n",
        "\n",
        "model_2.add(tf.keras.layers.BatchNormalization())\n",
        "\n",
        "model_2.add(tf.keras.layers.Dense(10, activation = 'relu'))\n",
        "\n",
        "model_2.add(tf.keras.layers.BatchNormalization())\n",
        "\n",
        "model_2.add(tf.keras.layers.Dense(10, activation = 'sigmoid'))"
      ],
      "metadata": {
        "id": "l-BVO_0ZhB7J"
      },
      "execution_count": null,
      "outputs": []
    },
    {
      "cell_type": "markdown",
      "source": [
        "Building NN architecture with sigmoid as activation function everywhere."
      ],
      "metadata": {
        "id": "QetnW_NWhOOx"
      }
    },
    {
      "cell_type": "code",
      "source": [
        "model_1=keras.Sequential([\n",
        "    keras.layers.Flatten(input_shape=(28,28)),\n",
        "    keras.layers.Dense(10,activation='sigmoid'),\n",
        "    BatchNormalization(),\n",
        "    keras.layers.Dense(10,activation='sigmoid'),\n",
        "    BatchNormalization(),\n",
        "    keras.layers.Dense(10,activation='sigmoid'),\n",
        "    BatchNormalization(),\n",
        "    keras.layers.Dense(10,activation='sigmoid'),\n",
        "    BatchNormalization(),\n",
        "    keras.layers.Dense(10,activation='sigmoid'),\n",
        "    BatchNormalization(),\n",
        "    keras.layers.Dense(10,activation='sigmoid'),\n",
        "    BatchNormalization(),\n",
        "    keras.layers.Dense(10,activation='sigmoid'),\n",
        "    BatchNormalization(),\n",
        "    keras.layers.Dense(10,activation='sigmoid'),\n",
        "    BatchNormalization(),\n",
        "    keras.layers.Dense(10,activation='sigmoid'),\n",
        "    BatchNormalization(),\n",
        "    keras.layers.Dense(10,activation='sigmoid'),\n",
        "    BatchNormalization(),\n",
        "    keras.layers.Dense(10,activation='sigmoid')\n",
        "])\n",
        "\n"
      ],
      "metadata": {
        "id": "3jK9Ow-IhADP"
      },
      "execution_count": null,
      "outputs": []
    },
    {
      "cell_type": "code",
      "source": [
        "# Trainig model 1 using ADAM\n",
        "\n",
        "model_1.compile(  loss = tf.keras.losses.CategoricalCrossentropy(), optimizer = tf.keras.optimizers.Adam(0.0001), metrics = ['accuracy'])\n"
      ],
      "metadata": {
        "id": "WkUWVcyGhT5T"
      },
      "execution_count": null,
      "outputs": []
    },
    {
      "cell_type": "code",
      "source": [
        "model_1.fit(X_train, Y_train, validation_data=(X_test,Y_test), epochs=10, batch_size=64)"
      ],
      "metadata": {
        "colab": {
          "base_uri": "https://localhost:8080/"
        },
        "id": "SStMLr4jctjI",
        "outputId": "4f7b6c13-67ae-410c-f45b-6834b55ffb90"
      },
      "execution_count": null,
      "outputs": [
        {
          "output_type": "stream",
          "name": "stdout",
          "text": [
            "Epoch 1/10\n",
            "938/938 [==============================] - 13s 8ms/step - loss: 1.5532 - accuracy: 0.5166 - val_loss: 1.0512 - val_accuracy: 0.7537\n",
            "Epoch 2/10\n",
            "938/938 [==============================] - 6s 7ms/step - loss: 0.9074 - accuracy: 0.7804 - val_loss: 0.6967 - val_accuracy: 0.8414\n",
            "Epoch 3/10\n",
            "938/938 [==============================] - 6s 7ms/step - loss: 0.6794 - accuracy: 0.8289 - val_loss: 0.5413 - val_accuracy: 0.8667\n",
            "Epoch 4/10\n",
            "938/938 [==============================] - 6s 7ms/step - loss: 0.5709 - accuracy: 0.8479 - val_loss: 0.4615 - val_accuracy: 0.8778\n",
            "Epoch 5/10\n",
            "938/938 [==============================] - 9s 9ms/step - loss: 0.5073 - accuracy: 0.8602 - val_loss: 0.4088 - val_accuracy: 0.8858\n",
            "Epoch 6/10\n",
            "938/938 [==============================] - 8s 8ms/step - loss: 0.4624 - accuracy: 0.8687 - val_loss: 0.3736 - val_accuracy: 0.8956\n",
            "Epoch 7/10\n",
            "938/938 [==============================] - 6s 6ms/step - loss: 0.4297 - accuracy: 0.8771 - val_loss: 0.3483 - val_accuracy: 0.9004\n",
            "Epoch 8/10\n",
            "938/938 [==============================] - 7s 7ms/step - loss: 0.4076 - accuracy: 0.8809 - val_loss: 0.3280 - val_accuracy: 0.9061\n",
            "Epoch 9/10\n",
            "938/938 [==============================] - 7s 7ms/step - loss: 0.3824 - accuracy: 0.8885 - val_loss: 0.3081 - val_accuracy: 0.9110\n",
            "Epoch 10/10\n",
            "938/938 [==============================] - 7s 8ms/step - loss: 0.3661 - accuracy: 0.8934 - val_loss: 0.2931 - val_accuracy: 0.9127\n"
          ]
        },
        {
          "output_type": "execute_result",
          "data": {
            "text/plain": [
              "<keras.callbacks.History at 0x7f884747ccd0>"
            ]
          },
          "metadata": {},
          "execution_count": 73
        }
      ]
    },
    {
      "cell_type": "code",
      "source": [
        "  # training the model 2 using ADAM\n",
        "model_2.compile(  loss = tf.keras.losses.CategoricalCrossentropy(), optimizer = tf.keras.optimizers.Adam(0.0001), metrics = ['accuracy'])\n",
        "\n",
        "model_2.fit(X_train, Y_train, validation_data=(X_test,Y_test), epochs=10, batch_size=64)"
      ],
      "metadata": {
        "colab": {
          "base_uri": "https://localhost:8080/"
        },
        "id": "fx_iAzuYhbJd",
        "outputId": "b7c6ce63-8fb9-47de-845b-2f6439786e6f"
      },
      "execution_count": null,
      "outputs": [
        {
          "output_type": "stream",
          "name": "stdout",
          "text": [
            "Epoch 1/10\n",
            "938/938 [==============================] - 10s 7ms/step - loss: 2.3111 - accuracy: 0.1833 - val_loss: 2.0511 - val_accuracy: 0.2730\n",
            "Epoch 2/10\n",
            "938/938 [==============================] - 7s 7ms/step - loss: 1.9502 - accuracy: 0.3166 - val_loss: 1.7844 - val_accuracy: 0.3662\n",
            "Epoch 3/10\n",
            "938/938 [==============================] - 6s 6ms/step - loss: 1.7094 - accuracy: 0.3927 - val_loss: 1.5656 - val_accuracy: 0.4323\n",
            "Epoch 4/10\n",
            "938/938 [==============================] - 7s 7ms/step - loss: 1.5039 - accuracy: 0.4780 - val_loss: 1.3397 - val_accuracy: 0.5463\n",
            "Epoch 5/10\n",
            "938/938 [==============================] - 6s 6ms/step - loss: 1.3028 - accuracy: 0.5642 - val_loss: 1.1445 - val_accuracy: 0.6206\n",
            "Epoch 6/10\n",
            "938/938 [==============================] - 7s 7ms/step - loss: 1.1477 - accuracy: 0.6211 - val_loss: 1.0004 - val_accuracy: 0.6763\n",
            "Epoch 7/10\n",
            "938/938 [==============================] - 6s 6ms/step - loss: 1.0235 - accuracy: 0.6689 - val_loss: 0.8805 - val_accuracy: 0.7317\n",
            "Epoch 8/10\n",
            "938/938 [==============================] - 7s 8ms/step - loss: 0.9291 - accuracy: 0.7066 - val_loss: 0.7789 - val_accuracy: 0.7650\n",
            "Epoch 9/10\n",
            "938/938 [==============================] - 7s 8ms/step - loss: 0.8414 - accuracy: 0.7463 - val_loss: 0.6937 - val_accuracy: 0.7973\n",
            "Epoch 10/10\n",
            "938/938 [==============================] - 7s 8ms/step - loss: 0.7750 - accuracy: 0.7697 - val_loss: 0.6403 - val_accuracy: 0.8111\n"
          ]
        },
        {
          "output_type": "execute_result",
          "data": {
            "text/plain": [
              "<keras.callbacks.History at 0x7f8847c5e250>"
            ]
          },
          "metadata": {},
          "execution_count": 62
        }
      ]
    },
    {
      "cell_type": "markdown",
      "source": [
        "Evaluating test data using both models"
      ],
      "metadata": {
        "id": "KXWoMtSSh0p1"
      }
    },
    {
      "cell_type": "code",
      "source": [
        "# Evaluation using model 1\n",
        "print(\"Loading results.............\")\n",
        "\n",
        "test_loss, test_acc = model_1.evaluate(X_test,  Y_test)"
      ],
      "metadata": {
        "colab": {
          "base_uri": "https://localhost:8080/"
        },
        "id": "qZ7bsmfWhm48",
        "outputId": "1e333a4d-cf2e-4908-cced-e2fc2bd6fad3"
      },
      "execution_count": null,
      "outputs": [
        {
          "output_type": "stream",
          "name": "stdout",
          "text": [
            "Loading results.............\n",
            "313/313 [==============================] - 1s 3ms/step - loss: 0.2931 - accuracy: 0.9127\n"
          ]
        }
      ]
    },
    {
      "cell_type": "code",
      "source": [
        "# Evaluation using model 2\n",
        "print(\"Loading results.............\")\n",
        "\n",
        "loss, accuracy = model_2.evaluate(X_test,  Y_test)"
      ],
      "metadata": {
        "colab": {
          "base_uri": "https://localhost:8080/"
        },
        "id": "d7rOU3wCh5Xz",
        "outputId": "5b6de6b8-517f-42ad-ba47-4f128494cb62"
      },
      "execution_count": null,
      "outputs": [
        {
          "output_type": "stream",
          "name": "stdout",
          "text": [
            "Loading results.............\n",
            "313/313 [==============================] - 1s 2ms/step - loss: 0.6403 - accuracy: 0.8111\n"
          ]
        }
      ]
    },
    {
      "cell_type": "code",
      "source": [
        "# Making Predictions\n",
        "\n",
        "# using model 1\n",
        "predictions = model_1.predict(X_test)\n",
        "print(predictions[437])\n",
        "print(np.argmax(predictions[437]))"
      ],
      "metadata": {
        "colab": {
          "base_uri": "https://localhost:8080/"
        },
        "id": "D81WlHIoh74N",
        "outputId": "a92a9584-28b1-4a70-c5b1-0613db18cffc"
      },
      "execution_count": null,
      "outputs": [
        {
          "output_type": "stream",
          "name": "stdout",
          "text": [
            "313/313 [==============================] - 1s 3ms/step\n",
            "[0.34941816 0.13841003 0.6358329  0.99630654 0.15727241 0.82057196\n",
            " 0.05390819 0.03927984 0.56028354 0.34730455]\n",
            "3\n"
          ]
        }
      ]
    },
    {
      "cell_type": "code",
      "source": [
        "plt.imshow(X_test[437])\n",
        "plt"
      ],
      "metadata": {
        "colab": {
          "base_uri": "https://localhost:8080/",
          "height": 282
        },
        "id": "4Cyqe14UiBFf",
        "outputId": "3c109ff1-5c1a-4e63-e1e5-6fd55d9a1845"
      },
      "execution_count": null,
      "outputs": [
        {
          "output_type": "execute_result",
          "data": {
            "text/plain": [
              "<module 'matplotlib.pyplot' from '/usr/local/lib/python3.7/dist-packages/matplotlib/pyplot.py'>"
            ]
          },
          "metadata": {},
          "execution_count": 76
        },
        {
          "output_type": "display_data",
          "data": {
            "text/plain": [
              "<Figure size 432x288 with 1 Axes>"
            ],
            "image/png": "[encoded data removed]"
          },
          "metadata": {
            "needs_background": "light"
          }
        }
      ]
    },
    {
      "cell_type": "code",
      "source": [
        "# Using model 2\n",
        "predictions = model_2.predict(X_test)\n",
        "print(predictions[437])\n",
        "print(np.argmax(predictions[437]))"
      ],
      "metadata": {
        "id": "foIz4-poiD4v",
        "outputId": "24fd556b-2d77-42b5-9fe7-490a98b9e80c",
        "colab": {
          "base_uri": "https://localhost:8080/"
        }
      },
      "execution_count": null,
      "outputs": [
        {
          "output_type": "stream",
          "name": "stdout",
          "text": [
            "313/313 [==============================] - 1s 3ms/step\n",
            "[0.71423995 0.32667208 0.13206351 0.97976327 0.42098364 0.94489425\n",
            " 0.54095143 0.19090775 0.23783627 0.456437  ]\n",
            "3\n"
          ]
        }
      ]
    },
    {
      "cell_type": "code",
      "source": [],
      "metadata": {
        "id": "pYOtP47QiHVW"
      },
      "execution_count": null,
      "outputs": []
    }
  ]
}